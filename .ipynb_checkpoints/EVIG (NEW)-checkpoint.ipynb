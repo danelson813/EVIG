{
 "cells": [
  {
   "cell_type": "code",
   "execution_count": 1,
   "metadata": {},
   "outputs": [],
   "source": [
    "import pandas as pd\n",
    "import numpy as np"
   ]
  },
  {
   "cell_type": "code",
   "execution_count": 2,
   "metadata": {
    "scrolled": true
   },
   "outputs": [
    {
     "name": "stdout",
     "output_type": "stream",
     "text": [
      "<class 'pandas.core.frame.DataFrame'>\n",
      "Int64Index: 46 entries, 101 to 147\n",
      "Data columns (total 12 columns):\n",
      " #   Column                 Non-Null Count  Dtype  \n",
      "---  ------                 --------------  -----  \n",
      " 0   Description            46 non-null     object \n",
      " 1   Acreage                46 non-null     float64\n",
      " 2   Owner                  46 non-null     object \n",
      " 3   e-mail                 41 non-null     object \n",
      " 4   phone                  36 non-null     object \n",
      " 5   Street Address         42 non-null     object \n",
      " 6   City, State, Zip       42 non-null     object \n",
      " 7   Mail Street            46 non-null     object \n",
      " 8   Mail City, State ZIP   46 non-null     object \n",
      " 9   Geographic ID          45 non-null     object \n",
      " 10  19Paid                 46 non-null     object \n",
      " 11  20paid                 30 non-null     object \n",
      "dtypes: float64(1), object(11)\n",
      "memory usage: 4.7+ KB\n"
     ]
    }
   ],
   "source": [
    "evig = pd.read_csv('Roster.csv', dtype={\"Record ID\": np.int64, \"Geographic ID\": np.object}, index_col=0)\n",
    "evig.info()"
   ]
  },
  {
   "cell_type": "code",
   "execution_count": 3,
   "metadata": {},
   "outputs": [
    {
     "data": {
      "text/html": [
       "<div>\n",
       "<style scoped>\n",
       "    .dataframe tbody tr th:only-of-type {\n",
       "        vertical-align: middle;\n",
       "    }\n",
       "\n",
       "    .dataframe tbody tr th {\n",
       "        vertical-align: top;\n",
       "    }\n",
       "\n",
       "    .dataframe thead th {\n",
       "        text-align: right;\n",
       "    }\n",
       "</style>\n",
       "<table border=\"1\" class=\"dataframe\">\n",
       "  <thead>\n",
       "    <tr style=\"text-align: right;\">\n",
       "      <th></th>\n",
       "      <th>Description</th>\n",
       "      <th>Acreage</th>\n",
       "      <th>Owner</th>\n",
       "      <th>e-mail</th>\n",
       "      <th>phone</th>\n",
       "      <th>Street Address</th>\n",
       "      <th>City, State, Zip</th>\n",
       "      <th>Mail Street</th>\n",
       "      <th>Mail City, State ZIP</th>\n",
       "      <th>Geographic ID</th>\n",
       "      <th>19Paid</th>\n",
       "      <th>20paid</th>\n",
       "    </tr>\n",
       "    <tr>\n",
       "      <th>Record ID</th>\n",
       "      <th></th>\n",
       "      <th></th>\n",
       "      <th></th>\n",
       "      <th></th>\n",
       "      <th></th>\n",
       "      <th></th>\n",
       "      <th></th>\n",
       "      <th></th>\n",
       "      <th></th>\n",
       "      <th></th>\n",
       "      <th></th>\n",
       "      <th></th>\n",
       "    </tr>\n",
       "  </thead>\n",
       "  <tbody>\n",
       "    <tr>\n",
       "      <th>101</th>\n",
       "      <td>Clenn Add #1</td>\n",
       "      <td>1.06</td>\n",
       "      <td>Jerome &amp; Samantha Jerome</td>\n",
       "      <td>yakimadog@hotmail.com; roslyndog@hotmail.com</td>\n",
       "      <td>509-888-0358</td>\n",
       "      <td>12310 Village View Dr</td>\n",
       "      <td>Leavenworth, WA 98826</td>\n",
       "      <td>12310 Village View Dr</td>\n",
       "      <td>Leavenworth, WA 98826</td>\n",
       "      <td>241701515010</td>\n",
       "      <td>z</td>\n",
       "      <td>b</td>\n",
       "    </tr>\n",
       "    <tr>\n",
       "      <th>102</th>\n",
       "      <td>Clenn Add #2</td>\n",
       "      <td>1.06</td>\n",
       "      <td>Randy &amp; Shawna Alexander</td>\n",
       "      <td>alexfam@hotmail.com</td>\n",
       "      <td>509-548-2464</td>\n",
       "      <td>12330 Village View Dr</td>\n",
       "      <td>Leavenworth, WA 98826</td>\n",
       "      <td>12330 Village View Dr</td>\n",
       "      <td>Leavenworth, WA 98826</td>\n",
       "      <td>241701515020</td>\n",
       "      <td>y</td>\n",
       "      <td>b</td>\n",
       "    </tr>\n",
       "    <tr>\n",
       "      <th>103</th>\n",
       "      <td>Clenn Add #3</td>\n",
       "      <td>1.02</td>\n",
       "      <td>Arlen &amp; Donna Simon</td>\n",
       "      <td>adsimon@televar.com</td>\n",
       "      <td>509-548-1344</td>\n",
       "      <td>12360 Village View Dr.</td>\n",
       "      <td>Leavenworth, WA 98826</td>\n",
       "      <td>PO Box 291</td>\n",
       "      <td>Leavenworth, WA 98826</td>\n",
       "      <td>241701515030</td>\n",
       "      <td>x</td>\n",
       "      <td>b</td>\n",
       "    </tr>\n",
       "    <tr>\n",
       "      <th>104</th>\n",
       "      <td>Clenn Add #4</td>\n",
       "      <td>1.02</td>\n",
       "      <td>Ryan Jenkins &amp; Kim Tobiason</td>\n",
       "      <td>ryanandkim1@icloud.com</td>\n",
       "      <td>206-369-8651</td>\n",
       "      <td>12380 Village View Dr</td>\n",
       "      <td>Leavenworth, WA 98826</td>\n",
       "      <td>12380 Village View Dr</td>\n",
       "      <td>Leavenworth, WA 98826</td>\n",
       "      <td>241701515040</td>\n",
       "      <td>z</td>\n",
       "      <td>c</td>\n",
       "    </tr>\n",
       "    <tr>\n",
       "      <th>105</th>\n",
       "      <td>Clenn Add #5</td>\n",
       "      <td>1.08</td>\n",
       "      <td>Steve &amp; Patty Varner</td>\n",
       "      <td>srv.1944@hotmail.com</td>\n",
       "      <td>509-548-7048</td>\n",
       "      <td>12400 Village View Dr</td>\n",
       "      <td>Leavenworth, WA 98826</td>\n",
       "      <td>12400 Village View Dr</td>\n",
       "      <td>Leavenworth, WA 98826</td>\n",
       "      <td>241701515050</td>\n",
       "      <td>x</td>\n",
       "      <td>a</td>\n",
       "    </tr>\n",
       "  </tbody>\n",
       "</table>\n",
       "</div>"
      ],
      "text/plain": [
       "             Description  Acreage                        Owner  \\\n",
       "Record ID                                                        \n",
       "101        Clenn Add #1      1.06     Jerome & Samantha Jerome   \n",
       "102         Clenn Add #2     1.06     Randy & Shawna Alexander   \n",
       "103         Clenn Add #3     1.02          Arlen & Donna Simon   \n",
       "104         Clenn Add #4     1.02  Ryan Jenkins & Kim Tobiason   \n",
       "105         Clenn Add #5     1.08         Steve & Patty Varner   \n",
       "\n",
       "                                                 e-mail         phone  \\\n",
       "Record ID                                                               \n",
       "101        yakimadog@hotmail.com; roslyndog@hotmail.com  509-888-0358   \n",
       "102                                 alexfam@hotmail.com  509-548-2464   \n",
       "103                                 adsimon@televar.com  509-548-1344   \n",
       "104                              ryanandkim1@icloud.com  206-369-8651   \n",
       "105                                srv.1944@hotmail.com  509-548-7048   \n",
       "\n",
       "                   Street Address       City, State, Zip  \\\n",
       "Record ID                                                  \n",
       "101         12310 Village View Dr  Leavenworth, WA 98826   \n",
       "102         12330 Village View Dr  Leavenworth, WA 98826   \n",
       "103        12360 Village View Dr.  Leavenworth, WA 98826   \n",
       "104         12380 Village View Dr  Leavenworth, WA 98826   \n",
       "105         12400 Village View Dr  Leavenworth, WA 98826   \n",
       "\n",
       "                     Mail Street  Mail City, State ZIP  Geographic ID 19Paid  \\\n",
       "Record ID                                                                      \n",
       "101        12310 Village View Dr  Leavenworth, WA 98826  241701515010      z   \n",
       "102        12330 Village View Dr  Leavenworth, WA 98826  241701515020      y   \n",
       "103                   PO Box 291  Leavenworth, WA 98826  241701515030      x   \n",
       "104        12380 Village View Dr  Leavenworth, WA 98826  241701515040      z   \n",
       "105        12400 Village View Dr  Leavenworth, WA 98826  241701515050      x   \n",
       "\n",
       "          20paid  \n",
       "Record ID         \n",
       "101            b  \n",
       "102            b  \n",
       "103            b  \n",
       "104            c  \n",
       "105            a  "
      ]
     },
     "execution_count": 3,
     "metadata": {},
     "output_type": "execute_result"
    }
   ],
   "source": [
    "\n",
    "evig.head()\n"
   ]
  },
  {
   "cell_type": "code",
   "execution_count": null,
   "metadata": {},
   "outputs": [],
   "source": []
  },
  {
   "cell_type": "code",
   "execution_count": null,
   "metadata": {},
   "outputs": [],
   "source": [
    "new = []"
   ]
  },
  {
   "cell_type": "code",
   "execution_count": null,
   "metadata": {},
   "outputs": [],
   "source": [
    "# each run change the value to next letter\n",
    "def track_payments(list):\n",
    "    evig.at[list, '20paid'] = 'd'\n",
    "    evig.to_csv('Roster.csv')"
   ]
  },
  {
   "cell_type": "code",
   "execution_count": 8,
   "metadata": {},
   "outputs": [],
   "source": [
    "df = evig['20paid']\n",
    "# df['20paid'] == NaN"
   ]
  },
  {
   "cell_type": "code",
   "execution_count": 16,
   "metadata": {},
   "outputs": [
    {
     "ename": "SyntaxError",
     "evalue": "invalid syntax (<ipython-input-16-a7e80b18093f>, line 1)",
     "output_type": "error",
     "traceback": [
      "\u001b[0;36m  File \u001b[0;32m\"<ipython-input-16-a7e80b18093f>\"\u001b[0;36m, line \u001b[0;32m1\u001b[0m\n\u001b[0;31m    unpaid = [x for x!=None in df  ]\u001b[0m\n\u001b[0m                     ^\u001b[0m\n\u001b[0;31mSyntaxError\u001b[0m\u001b[0;31m:\u001b[0m invalid syntax\n"
     ]
    }
   ],
   "source": [
    "unpaid = [x for x!=None in df  ]\n",
    "unpaid"
   ]
  },
  {
   "cell_type": "code",
   "execution_count": 17,
   "metadata": {},
   "outputs": [
    {
     "data": {
      "text/plain": [
       "Record ID\n",
       "101      b\n",
       "102      b\n",
       "103      b\n",
       "104      c\n",
       "105      a\n",
       "106      b\n",
       "107      a\n",
       "108      b\n",
       "109      c\n",
       "110    NaN\n",
       "111      b\n",
       "112      a\n",
       "113    NaN\n",
       "114      c\n",
       "115      c\n",
       "116    NaN\n",
       "117      c\n",
       "118      a\n",
       "119    NaN\n",
       "120      a\n",
       "121    NaN\n",
       "122    NaN\n",
       "123      a\n",
       "124      b\n",
       "125      a\n",
       "126      a\n",
       "127    NaN\n",
       "128    NaN\n",
       "129    NaN\n",
       "131      c\n",
       "132      c\n",
       "133    NaN\n",
       "134      b\n",
       "135      b\n",
       "136      c\n",
       "137    NaN\n",
       "138    NaN\n",
       "139      b\n",
       "140      c\n",
       "141    NaN\n",
       "142    NaN\n",
       "143      c\n",
       "144    NaN\n",
       "145    NaN\n",
       "146      a\n",
       "147      b\n",
       "Name: 20paid, dtype: object"
      ]
     },
     "execution_count": 17,
     "metadata": {},
     "output_type": "execute_result"
    }
   ],
   "source": [
    "df"
   ]
  },
  {
   "cell_type": "code",
   "execution_count": null,
   "metadata": {},
   "outputs": [],
   "source": []
  },
  {
   "cell_type": "code",
   "execution_count": null,
   "metadata": {},
   "outputs": [],
   "source": []
  },
  {
   "cell_type": "code",
   "execution_count": null,
   "metadata": {},
   "outputs": [],
   "source": []
  },
  {
   "cell_type": "code",
   "execution_count": null,
   "metadata": {},
   "outputs": [],
   "source": []
  },
  {
   "cell_type": "code",
   "execution_count": null,
   "metadata": {},
   "outputs": [],
   "source": []
  },
  {
   "cell_type": "code",
   "execution_count": null,
   "metadata": {},
   "outputs": [],
   "source": []
  },
  {
   "cell_type": "code",
   "execution_count": null,
   "metadata": {},
   "outputs": [],
   "source": []
  },
  {
   "cell_type": "code",
   "execution_count": null,
   "metadata": {},
   "outputs": [],
   "source": []
  },
  {
   "cell_type": "code",
   "execution_count": null,
   "metadata": {},
   "outputs": [],
   "source": []
  },
  {
   "cell_type": "code",
   "execution_count": null,
   "metadata": {},
   "outputs": [],
   "source": []
  }
 ],
 "metadata": {
  "kernelspec": {
   "display_name": "Python (scraping)",
   "language": "python",
   "name": "scraping"
  },
  "language_info": {
   "codemirror_mode": {
    "name": "ipython",
    "version": 3
   },
   "file_extension": ".py",
   "mimetype": "text/x-python",
   "name": "python",
   "nbconvert_exporter": "python",
   "pygments_lexer": "ipython3",
   "version": "3.8.2"
  }
 },
 "nbformat": 4,
 "nbformat_minor": 4
}
